{
 "cells": [
  {
   "cell_type": "markdown",
   "metadata": {},
   "source": [
    "Importing the libaries"
   ]
  },
  {
   "cell_type": "code",
   "execution_count": 2,
   "metadata": {},
   "outputs": [],
   "source": [
    "import pandas as pd\n"
   ]
  },
  {
   "cell_type": "code",
   "execution_count": 3,
   "metadata": {},
   "outputs": [
    {
     "name": "stdout",
     "output_type": "stream",
     "text": [
      "<class 'pandas.core.frame.DataFrame'>\n",
      "RangeIndex: 378661 entries, 0 to 378660\n",
      "Data columns (total 9 columns):\n",
      "name                378657 non-null object\n",
      "category            378661 non-null object\n",
      "deadline            378661 non-null object\n",
      "launched            378661 non-null object\n",
      "backers             378661 non-null int64\n",
      "country             378661 non-null object\n",
      "usd_pledged_real    378661 non-null float64\n",
      "usd_goal_real       378661 non-null float64\n",
      "StateBin            378661 non-null int64\n",
      "dtypes: float64(2), int64(2), object(5)\n",
      "memory usage: 26.0+ MB\n"
     ]
    }
   ],
   "source": [
    "FullSetClean = pd.read_csv(\"data_edited2.csv\")\n",
    "\n",
    "#####\n",
    "\"\"\"\n",
    "Put Further Sanitation Code here.\n",
    "OR any sanitation code\n",
    "\"\"\"\n",
    "FullSetClean = FullSetClean.drop(columns = \"currency\")\n",
    "\n",
    "stateBin = []\n",
    "for row in FullSetClean[\"state\"]:\n",
    "    if row == \"successful\":\n",
    "        stateBin.append(1)\n",
    "    else:\n",
    "        stateBin.append(0)\n",
    "\n",
    "FullSetClean[\"StateBin\"] = stateBin\n",
    "FullSetClean = FullSetClean.drop(columns = \"state\")\n",
    "FullSetClean.info()"
   ]
  },
  {
   "cell_type": "code",
   "execution_count": 4,
   "metadata": {},
   "outputs": [],
   "source": [
    "####################################\n",
    "#Colection Of Functions To Be Coded#\n",
    "#\n",
    "####################################"
   ]
  },
  {
   "cell_type": "code",
   "execution_count": 6,
   "metadata": {},
   "outputs": [
    {
     "name": "stdout",
     "output_type": "stream",
     "text": [
      "4\n",
      "0.25\n",
      "0.6666666666666666\n",
      "1\n"
     ]
    }
   ],
   "source": [
    "\n",
    "\n",
    "def StartingChar(string : str):\n",
    "    return string[0]\n",
    "\n",
    "def Length(string : str):\n",
    "    return len(string)\n",
    "\n",
    "def NumberOfWords(string :  str):\n",
    "    output = 0\n",
    "    string = string.split()\n",
    "    for word in string:\n",
    "         if any(c.isalpha() for c in word): ##sees if there is a letter in the collection of chars\n",
    "                output += 1\n",
    "    return output\n",
    "\n",
    "def Capitilisation(string : str):\n",
    "    plus = 0\n",
    "    minus = 0\n",
    "    for char in string:\n",
    "        if char.islower():\n",
    "            plus +=1\n",
    "        elif char.isupper():\n",
    "            minus += 1\n",
    "    return (plus/(plus + minus))\n",
    "\n",
    "def Punctuation(string : str):\n",
    "    plus = 0\n",
    "    minus = 0\n",
    "    for char in string:\n",
    "        if char in \". , / ? ; : ‘ () !”\":\n",
    "            plus +=1\n",
    "        else:\n",
    "            minus += 1\n",
    "    return (plus/(plus + minus))\n",
    "\n",
    "def nonPunctuation(string:str):\n",
    "    plus = 0\n",
    "    minus = 0\n",
    "    for char in string:\n",
    "        if char in \"\\|£$%^&*-_+={}[]@~#<>¬\":\n",
    "            plus +=1\n",
    "        else:\n",
    "            minus += 1\n",
    "    return (plus/(plus + minus))\n",
    "\n",
    "def Vowels(string : str):\n",
    "    plus = 0\n",
    "    minus = 0\n",
    "    string = string.lower()\n",
    "    for char in string:\n",
    "        if char in \"aeiou\":\n",
    "            plus += 1\n",
    "        elif char.isalpha():\n",
    "            minus += 1\n",
    "    return (plus/(plus + minus))\n",
    "\n",
    "def Plositives(string : str):\n",
    "    plus = 0\n",
    "    minus = 0\n",
    "    string = string.lower()\n",
    "    for char in string:\n",
    "        if char in \"ptkbdg\":\n",
    "            plus += 1\n",
    "        elif char.isalpha():\n",
    "            minus += 1\n",
    "    return (plus/(plus + minus))\n",
    "\n",
    "def frictives(string : str):\n",
    "    plus = 0\n",
    "    minus = 0\n",
    "    string  = string.lower()\n",
    "    for char in string:\n",
    "        if char in \"fsvz\":\n",
    "            plus += 1\n",
    "        elif char.isalpha():\n",
    "            minus += 1\n",
    "    return (plus/(plus + minus))\n",
    "\n",
    "def alliteration(string : str):\n",
    "    output = 0\n",
    "    string = string.lower()\n",
    "    string = string.split()\n",
    "    previousLetter = \"\"\n",
    "    for word in string:\n",
    "        if word[0] == previousLetter:\n",
    "                return 1\n",
    "        else:\n",
    "            previousLetter = word[0]\n",
    "        \n",
    "    return 0\n",
    "\n",
    "functionList = [[StartingChar,\"Starting Char\"],\n",
    "                [Length , \"Word Length\"],\n",
    "                [NumberOfWords , \"Number Of Words\"],\n",
    "                [Capitilisation , \"Capitilisation\"],\n",
    "                [Punctuation , \"Punctuation\"],\n",
    "                [nonPunctuation , \"nonPunctuation\"],\n",
    "                [Vowels , \"Vowels\"],\n",
    "                [Plositives, \"Plositives\"],\n",
    "                [frictives,\"frictives\"],\n",
    "                [alliteration,\"alliteration\"]\n",
    "               ]\n",
    "    \n",
    "print(NumberOfWords(\"Test Test test a!\")) \n",
    "print (frictives(\"test test test\"))\n",
    "print (Capitilisation(\"TEst Test Test\"))\n",
    "print (alliteration(\"Fest Test test\"))"
   ]
  },
  {
   "cell_type": "code",
   "execution_count": 7,
   "metadata": {},
   "outputs": [],
   "source": [
    "# At some point this will be changed to a genralised function.\n",
    "#base plan:\n",
    "#all the analytics function will take a string return a number (float or int 64 )\n",
    "\n",
    "#there will be an itterator high order function that takes the analytic function. \n",
    "#and the applies it to all of the titles and returns a list\n",
    "\n",
    "###The itterator high order7\n",
    "def itterator(function,ColName,dataSet):\n",
    "    output = list()\n",
    "    for n , string in enumerate(dataSet[\"name\"]):\n",
    "        output.append(function(string))\n",
    "    dataSet[ColName] = output\n",
    "    "
   ]
  },
  {
   "cell_type": "code",
   "execution_count": 8,
   "metadata": {},
   "outputs": [
    {
     "ename": "TypeError",
     "evalue": "'float' object is not subscriptable",
     "output_type": "error",
     "traceback": [
      "\u001b[1;31m---------------------------------------------------------------------------\u001b[0m",
      "\u001b[1;31mTypeError\u001b[0m                                 Traceback (most recent call last)",
      "\u001b[1;32m<ipython-input-8-7ee241a3bece>\u001b[0m in \u001b[0;36m<module>\u001b[1;34m\u001b[0m\n\u001b[0;32m      1\u001b[0m \u001b[1;33m\u001b[0m\u001b[0m\n\u001b[0;32m      2\u001b[0m \u001b[1;32mfor\u001b[0m \u001b[0mpoint\u001b[0m \u001b[1;32min\u001b[0m \u001b[0mfunctionList\u001b[0m\u001b[1;33m:\u001b[0m\u001b[1;33m\u001b[0m\u001b[1;33m\u001b[0m\u001b[0m\n\u001b[1;32m----> 3\u001b[1;33m     \u001b[0mitterator\u001b[0m\u001b[1;33m(\u001b[0m\u001b[0mpoint\u001b[0m\u001b[1;33m[\u001b[0m\u001b[1;36m0\u001b[0m\u001b[1;33m]\u001b[0m\u001b[1;33m,\u001b[0m\u001b[0mpoint\u001b[0m\u001b[1;33m[\u001b[0m\u001b[1;36m1\u001b[0m\u001b[1;33m]\u001b[0m\u001b[1;33m,\u001b[0m\u001b[0mFullSetClean\u001b[0m\u001b[1;33m)\u001b[0m\u001b[1;33m\u001b[0m\u001b[1;33m\u001b[0m\u001b[0m\n\u001b[0m\u001b[0;32m      4\u001b[0m \u001b[0mFullSetClean\u001b[0m\u001b[1;33m.\u001b[0m\u001b[0mhead\u001b[0m\u001b[1;33m(\u001b[0m\u001b[1;33m)\u001b[0m\u001b[1;33m\u001b[0m\u001b[1;33m\u001b[0m\u001b[0m\n",
      "\u001b[1;32m<ipython-input-7-6a5055aa9efd>\u001b[0m in \u001b[0;36mitterator\u001b[1;34m(function, ColName, dataSet)\u001b[0m\n\u001b[0;32m     10\u001b[0m     \u001b[0moutput\u001b[0m \u001b[1;33m=\u001b[0m \u001b[0mlist\u001b[0m\u001b[1;33m(\u001b[0m\u001b[1;33m)\u001b[0m\u001b[1;33m\u001b[0m\u001b[1;33m\u001b[0m\u001b[0m\n\u001b[0;32m     11\u001b[0m     \u001b[1;32mfor\u001b[0m \u001b[0mn\u001b[0m \u001b[1;33m,\u001b[0m \u001b[0mstring\u001b[0m \u001b[1;32min\u001b[0m \u001b[0menumerate\u001b[0m\u001b[1;33m(\u001b[0m\u001b[0mdataSet\u001b[0m\u001b[1;33m[\u001b[0m\u001b[1;34m\"name\"\u001b[0m\u001b[1;33m]\u001b[0m\u001b[1;33m)\u001b[0m\u001b[1;33m:\u001b[0m\u001b[1;33m\u001b[0m\u001b[1;33m\u001b[0m\u001b[0m\n\u001b[1;32m---> 12\u001b[1;33m         \u001b[0moutput\u001b[0m\u001b[1;33m.\u001b[0m\u001b[0mappend\u001b[0m\u001b[1;33m(\u001b[0m\u001b[0mfunction\u001b[0m\u001b[1;33m(\u001b[0m\u001b[0mstring\u001b[0m\u001b[1;33m)\u001b[0m\u001b[1;33m)\u001b[0m\u001b[1;33m\u001b[0m\u001b[1;33m\u001b[0m\u001b[0m\n\u001b[0m\u001b[0;32m     13\u001b[0m     \u001b[0mdataSet\u001b[0m\u001b[1;33m[\u001b[0m\u001b[0mColName\u001b[0m\u001b[1;33m]\u001b[0m \u001b[1;33m=\u001b[0m \u001b[0moutput\u001b[0m\u001b[1;33m\u001b[0m\u001b[1;33m\u001b[0m\u001b[0m\n\u001b[0;32m     14\u001b[0m \u001b[1;33m\u001b[0m\u001b[0m\n",
      "\u001b[1;32m<ipython-input-6-0c33fbcb2368>\u001b[0m in \u001b[0;36mStartingChar\u001b[1;34m(string)\u001b[0m\n\u001b[0;32m      2\u001b[0m \u001b[1;33m\u001b[0m\u001b[0m\n\u001b[0;32m      3\u001b[0m \u001b[1;32mdef\u001b[0m \u001b[0mStartingChar\u001b[0m\u001b[1;33m(\u001b[0m\u001b[0mstring\u001b[0m \u001b[1;33m:\u001b[0m \u001b[0mstr\u001b[0m\u001b[1;33m)\u001b[0m\u001b[1;33m:\u001b[0m\u001b[1;33m\u001b[0m\u001b[1;33m\u001b[0m\u001b[0m\n\u001b[1;32m----> 4\u001b[1;33m     \u001b[1;32mreturn\u001b[0m \u001b[0mstring\u001b[0m\u001b[1;33m[\u001b[0m\u001b[1;36m0\u001b[0m\u001b[1;33m]\u001b[0m\u001b[1;33m\u001b[0m\u001b[1;33m\u001b[0m\u001b[0m\n\u001b[0m\u001b[0;32m      5\u001b[0m \u001b[1;33m\u001b[0m\u001b[0m\n\u001b[0;32m      6\u001b[0m \u001b[1;32mdef\u001b[0m \u001b[0mLength\u001b[0m\u001b[1;33m(\u001b[0m\u001b[0mstring\u001b[0m \u001b[1;33m:\u001b[0m \u001b[0mstr\u001b[0m\u001b[1;33m)\u001b[0m\u001b[1;33m:\u001b[0m\u001b[1;33m\u001b[0m\u001b[1;33m\u001b[0m\u001b[0m\n",
      "\u001b[1;31mTypeError\u001b[0m: 'float' object is not subscriptable"
     ]
    }
   ],
   "source": [
    "\n",
    "for point in functionList:\n",
    "    itterator(point[0],point[1],FullSetClean)\n",
    "FullSetClean.head()"
   ]
  },
  {
   "cell_type": "code",
   "execution_count": null,
   "metadata": {},
   "outputs": [],
   "source": [
    "#Data base splitting done bellow \n",
    "\n",
    "from sklearn.model_selection import train_test_split\n",
    "\n",
    "train,other = train_test_split(FullSetClean, test_size=0.6,random_state=0);\n",
    "\n",
    "validation , test = train_test_split(other, test_size=0.5,random_state=0);\n",
    "\n",
    "train.head()\n",
    "\n",
    "\n",
    "\n",
    "#FullSetClean.head()\n",
    "#FullSetClean.info(verbose = True)"
   ]
  },
  {
   "cell_type": "code",
   "execution_count": null,
   "metadata": {},
   "outputs": [],
   "source": [
    "import numpy as np\n",
    "from sklearn.metrics import accuracy_score\n",
    "from sklearn.linear_model import LogisticRegression\n",
    "import warnings\n",
    "warnings.filterwarnings('ignore')\n",
    "\n",
    "def select_column_to_add(X_train, y_train, X_val, y_val, columns_in_model, columns_to_test):\n",
    "    \n",
    "    column_best = None\n",
    "    columns_in_model = list(columns_in_model)\n",
    "    \n",
    "    if len(columns_in_model) == 0:\n",
    "        acc_best = 0\n",
    "    elif len(columns_in_model) == 1:\n",
    "        mod = LogisticRegression(C=1e9).fit(X_train[columns_in_model].values.reshape(-1, 1), y_train)\n",
    "        acc_best = accuracy_score(y_val, mod.predict(X_val[columns_in_model].values.reshape(-1, 1)))\n",
    "    else:\n",
    "        mod = LogisticRegression(C=1e9).fit(X_train[columns_in_model], y_train)\n",
    "        acc_best = accuracy_score(y_val, mod.predict(X_val[columns_in_model]))\n",
    "\n",
    "    \n",
    "    for column in columns_to_test:\n",
    "        mod = LogisticRegression(C=1e9).fit(X_train[columns_in_model+[column]], y_train)\n",
    "        y_pred = mod.predict(X_val[columns_in_model+[column]])\n",
    "        acc = accuracy_score(y_val, y_pred)\n",
    "        \n",
    "        if acc - acc_best >= 0.005:  # one of our stopping criteria\n",
    "            acc_best = acc\n",
    "            column_best = column\n",
    "        \n",
    "    if column_best is not None:  # the other stopping criteria\n",
    "        print('Adding {} to the model'.format(column_best))\n",
    "        print('The new best validation accuracy is {}'.format(acc_best))\n",
    "        columns_in_model_updated = columns_in_model + [column_best]\n",
    "    else:\n",
    "        print('Did not add anything to the model')\n",
    "        columns_in_model_updated = columns_in_model\n",
    "    \n",
    "    return columns_in_model_updated, acc_best"
   ]
  },
  {
   "cell_type": "code",
   "execution_count": null,
   "metadata": {},
   "outputs": [],
   "source": [
    "dropstuff = [\"StateBin\",\"name\",\"category\",\"deadline\",\"main_category\",\"launched\",\"country\",\"Starting Char\",\"usd_goal_real\",\"pledged\",\"usd_pledged_real\",\"goal\",\"usd pledged\"]\n",
    "\n",
    "Ytrain = train[[\"StateBin\"]]  #what you want to predict\n",
    "Xtrain = train.drop(columns = dropstuff) #all the other data\n",
    "Yval = validation[[\"StateBin\"]]  #what you want to predict\n",
    "Xval = validation.drop(columns = dropstuff) #all the other data\n",
    "\n",
    "Xtrain.info()\n"
   ]
  },
  {
   "cell_type": "code",
   "execution_count": null,
   "metadata": {},
   "outputs": [],
   "source": [
    "columns_to_test = set(Xtrain)\n",
    "full_list = set(Xtrain)\n",
    "\n",
    "columns_in_model = list();\n",
    "\n",
    "for i in range(4):\n",
    "    columns_in_model , acc = select_column_to_add(Xtrain,Ytrain,Xval,Yval,columns_in_model,columns_to_test)    \n",
    "    columns_to_test = full_list.difference(columns_in_model)"
   ]
  },
  {
   "cell_type": "code",
   "execution_count": null,
   "metadata": {},
   "outputs": [],
   "source": []
  },
  {
   "cell_type": "code",
   "execution_count": null,
   "metadata": {},
   "outputs": [],
   "source": []
  }
 ],
 "metadata": {
  "kernelspec": {
   "display_name": "Python 3",
   "language": "python",
   "name": "python3"
  },
  "language_info": {
   "codemirror_mode": {
    "name": "ipython",
    "version": 3
   },
   "file_extension": ".py",
   "mimetype": "text/x-python",
   "name": "python",
   "nbconvert_exporter": "python",
   "pygments_lexer": "ipython3",
   "version": "3.7.3"
  }
 },
 "nbformat": 4,
 "nbformat_minor": 2
}
